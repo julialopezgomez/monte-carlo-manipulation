{
 "cells": [
  {
   "cell_type": "code",
   "execution_count": 1,
   "metadata": {},
   "outputs": [],
   "source": [
    "# Cell 1: Import necessary libraries\n",
    "import numpy as np\n",
    "import os\n",
    "import time\n",
    "from pydrake.all import (\n",
    "    DiagramBuilder, AddMultibodyPlantSceneGraph, Parser, RigidTransform, RotationMatrix,\n",
    "    Role, MeshcatVisualizer, StartMeshcat, RationalForwardKinematics, CspaceFreePolytope,\n",
    "    SeparatingPlaneOrder, Rgba, InverseKinematics,\n",
    "    LinearEqualityConstraint, Sphere, Parallelism, AddDefaultVisualization, \n",
    "    ConnectPlanarSceneGraphVisualizer, IrisFromCliqueCoverOptions, \n",
    "    IrisInConfigurationSpaceFromCliqueCover, RandomGenerator, RobotDiagramBuilder, \n",
    "    SceneGraphCollisionChecker, MultibodyPlant, SceneGraph, \n",
    "    SolverOptions, CommonSolverOption, GeometrySet, ScsSolver\n",
    ")\n",
    "from pydrake.geometry.optimization import GraphOfConvexSetsOptions, HPolyhedron, VPolytope, Point, Hyperellipsoid\n",
    "from pydrake.geometry.optimization import ConvexHull as DrakeConvexHull\n",
    "from pydrake.planning import GcsTrajectoryOptimization\n",
    "from pydrake.solvers import MathematicalProgram, Solve, MosekSolver\n",
    "from pydrake.trajectories import CompositeTrajectory\n",
    "from scipy.spatial import ConvexHull\n",
    "import mcubes\n",
    "from functools import partial\n",
    "import matplotlib.pyplot as plt\n",
    "from ciris_plant_visualizer import CIrisPlantVisualizer\n",
    "from ipywidgets import widgets"
   ]
  },
  {
   "cell_type": "markdown",
   "metadata": {},
   "source": [
    "# 1. Set up the Scene"
   ]
  },
  {
   "cell_type": "code",
   "execution_count": 2,
   "metadata": {},
   "outputs": [
    {
     "name": "stderr",
     "output_type": "stream",
     "text": [
      "INFO:drake:Meshcat listening for connections at http://localhost:7001\n"
     ]
    },
    {
     "name": "stdout",
     "output_type": "stream",
     "text": [
      "Number of positions:  4\n",
      "Visualisations won't work properly. Can't visualize the TC-Space of plants with more than 3-DOF. The first 3 DOF from the plant will be visualized\n"
     ]
    }
   ],
   "source": [
    "# Replace DiagramBuilder with RobotDiagramBuilder\n",
    "builder = RobotDiagramBuilder(time_step=0.0)\n",
    "plant = builder.plant()\n",
    "scene_graph = builder.scene_graph()\n",
    "parser = Parser(plant, scene_graph)\n",
    "parser.SetAutoRenaming(True)\n",
    "\n",
    "# Add the robot\n",
    "gripper = parser.AddModels(file_name=\"my_sdfs/wsg_3dof.sdf\")[0]\n",
    "cap = parser.AddModels(file_name=\"my_sdfs/bottle_cap.sdf\")[0]\n",
    "obstacle1 = parser.AddModels(\"my_sdfs/obstacle.sdf\")[0]\n",
    "# obstacle2 = parser.AddModels(\"my_sdfs/obstacle.sdf\")[0]\n",
    "obstacle3 = parser.AddModels(\"my_sdfs/obstacle.sdf\")[0]\n",
    "\n",
    "# Set welds\n",
    "plant.WeldFrames(\n",
    "    plant.world_frame(), \n",
    "    plant.GetFrameByName(\"base_link\", cap),\n",
    "    RigidTransform(RotationMatrix(), [0, 0, 0]))\n",
    "\n",
    "# Weld the obstacle to the world frame (adjust pose as needed)\n",
    "obstacle_pose1 = RigidTransform(RotationMatrix(), [0.01, 0.035, 0.02])  # Adjust position\n",
    "plant.WeldFrames(\n",
    "    plant.world_frame(),\n",
    "    plant.GetFrameByName(\"obstacle_link\", obstacle1),\n",
    "    obstacle_pose1)\n",
    "\n",
    "# obstacle_pose2 = RigidTransform(RotationMatrix(), [-0.01, 0.035, 0.02])  # Adjust position\n",
    "# plant.WeldFrames(\n",
    "#     plant.world_frame(),\n",
    "#     plant.GetFrameByName(\"obstacle_link\", obstacle2),\n",
    "#     obstacle_pose2)\n",
    "\n",
    "obstacle_pose3 = RigidTransform(RotationMatrix(), [-0.035, -0.005, 0.02])  # Adjust position\n",
    "plant.WeldFrames(\n",
    "    plant.world_frame(),\n",
    "    plant.GetFrameByName(\"obstacle_link\", obstacle3),\n",
    "    obstacle_pose3)\n",
    "\n",
    "p_GgraspO = [0, 0, .065]\n",
    "R_GgraspO = RotationMatrix.MakeXRotation(-np.pi / 2)\n",
    "plant.WeldFrames(\n",
    "    plant.world_frame(),\n",
    "    plant.GetFrameByName(\"base_wsg\", gripper),\n",
    "    RigidTransform(R_GgraspO, p_GgraspO))\n",
    "\n",
    "# Fix right finger to left finger\n",
    "right_finger_joint = plant.GetJointByName(\"right_finger_sliding_joint\", gripper)\n",
    "left_finger_joint = plant.GetJointByName(\"left_finger_sliding_joint\", gripper)\n",
    "\n",
    "# Set default joint translation to 0.025\n",
    "# right_finger_joint.set_default_translation(0.025)\n",
    "left_finger_joint.set_default_translation(-0.025)\n",
    "\n",
    "plant.Finalize()\n",
    "\n",
    "print(\"Number of positions: \", plant.num_positions())\n",
    "\n",
    "# Cell 3: Initialize the CIrisPlantVisualizer\n",
    "q_star = np.zeros(plant.num_positions())\n",
    "\n",
    "# The object we will use to perform our certification\n",
    "cspace_free_polytope = CspaceFreePolytope(\n",
    "    plant, \n",
    "    scene_graph,\n",
    "    SeparatingPlaneOrder.kAffine,\n",
    "    q_star)\n",
    "\n",
    "visualizer = CIrisPlantVisualizer(\n",
    "    plant,\n",
    "    builder,\n",
    "    scene_graph,\n",
    "    cspace_free_polytope,\n",
    "    viz_role=Role.kIllustration,\n",
    "    allow_plus_3dof=True\n",
    ")\n",
    "\n",
    "\n",
    "visualizer.task_space_diagram.ForcedPublish(visualizer.task_space_diagram_context)"
   ]
  },
  {
   "cell_type": "markdown",
   "metadata": {},
   "source": [
    "### 1.1. Use Sliders to Visualize the Scene in Meshcat"
   ]
  },
  {
   "cell_type": "code",
   "execution_count": 3,
   "metadata": {},
   "outputs": [
    {
     "data": {
      "application/vnd.jupyter.widget-view+json": {
       "model_id": "4a50eb20aa9645c5aeb7d6aa75278689",
       "version_major": 2,
       "version_minor": 0
      },
      "text/plain": [
       "FloatSlider(value=0.0, description='q0', max=3.14, min=-3.14, step=0.06280000000000001)"
      ]
     },
     "metadata": {},
     "output_type": "display_data"
    },
    {
     "data": {
      "application/vnd.jupyter.widget-view+json": {
       "model_id": "df017f04deaf4da2bc377c23a50a491b",
       "version_major": 2,
       "version_minor": 0
      },
      "text/plain": [
       "FloatSlider(value=0.0, description='q1', max=1.0, min=-1.0, step=0.02)"
      ]
     },
     "metadata": {},
     "output_type": "display_data"
    },
    {
     "data": {
      "application/vnd.jupyter.widget-view+json": {
       "model_id": "b020642834de4055a098276760c85045",
       "version_major": 2,
       "version_minor": 0
      },
      "text/plain": [
       "FloatSlider(value=0.0, description='q2', max=0.0, min=-0.055, step=0.00055)"
      ]
     },
     "metadata": {},
     "output_type": "display_data"
    },
    {
     "data": {
      "application/vnd.jupyter.widget-view+json": {
       "model_id": "1ce1d529aee54a698b7542d737d6717c",
       "version_major": 2,
       "version_minor": 0
      },
      "text/plain": [
       "FloatSlider(value=0.0, description='q3', max=0.055, step=0.00055)"
      ]
     },
     "metadata": {},
     "output_type": "display_data"
    }
   ],
   "source": [
    "sliders = []\n",
    "\n",
    "plant_context = visualizer.plant_context\n",
    "diagram = visualizer.task_space_diagram\n",
    "diagram_context = visualizer.task_space_diagram_context\n",
    "\n",
    "for i in range(plant.num_positions()):\n",
    "    q_low = plant.GetPositionLowerLimits()[i]\n",
    "    q_high = plant.GetPositionUpperLimits()[i]\n",
    "    step = (q_high - q_low) / 100\n",
    "    sliders.append(widgets.FloatSlider(\n",
    "        min=q_low, max=q_high, \n",
    "        value=0, step=step, \n",
    "        description=f\"q{i}\"))\n",
    "    \n",
    "# q = np.zeros(plant.num_positions())\n",
    "q = [-3.14, -0.78, -0.03, 0.03]\n",
    "def handle_slider_change(change, idx):\n",
    "    q[idx] = change['new']\n",
    "    # print(visualizer.check_collision_q_by_ik(q))\n",
    "    plant.SetPositions(plant_context, q)\n",
    "    diagram.ForcedPublish(diagram_context)\n",
    "    \n",
    "idx = 0\n",
    "for slider in sliders:\n",
    "    slider.observe(partial(handle_slider_change, idx = idx), names='value')\n",
    "    idx+=1\n",
    "\n",
    "for slider in sliders:\n",
    "    display(slider)"
   ]
  },
  {
   "cell_type": "markdown",
   "metadata": {},
   "source": [
    "## 1.2. Setup Grasping and Placement Space"
   ]
  },
  {
   "cell_type": "code",
   "execution_count": 4,
   "metadata": {},
   "outputs": [],
   "source": [
    "# Define the 8 corner points of the convex hull\n",
    "x_bounds = [-3.14, 3.14]\n",
    "y_bounds = [-1., 1.]\n",
    "z_bounds = [-0.055, -0.024]\n",
    "\n",
    "z2_bounds = [0.024, 0.055]\n",
    "\n",
    "# lower_joint_limits = np.array([x_bounds[0], y_bounds[0], z_bounds[0]])\n",
    "# upper_joint_limits = np.array([x_bounds[1], y_bounds[1], z_bounds[1]])\n",
    "\n",
    "lower_joint_limits = np.array([x_bounds[0], y_bounds[0], z_bounds[0], z2_bounds[0]])\n",
    "upper_joint_limits = np.array([x_bounds[1], y_bounds[1], z_bounds[1], z2_bounds[1]])\n",
    "\n",
    "z_bounds_grasp = [-0.025, -0.024]\n",
    "\n",
    "z2_bounds_grasp = [0.024, 0.025]\n",
    "\n",
    "# Generate all corner points\n",
    "# placement_points = np.array([[x, y, z] for x in x_bounds for y in y_bounds for z in z_bounds])\n",
    "# grasp_points = np.array([[x, y, z] for x in x_bounds for y in y_bounds for z in z_bounds_grasp])\n",
    "###### For 2 dimensional example:\n",
    "# placement_points = np.array([[x, y] for x in x_bounds for y in z_bounds])\n",
    "# grasp_points = np.array([[x, y] for x in x_bounds for y in z_bounds_grasp])\n",
    "\n",
    "placement_points = np.array([[x, y, z, z2] for x in x_bounds for y in y_bounds for z in z_bounds for z2 in z2_bounds])\n",
    "grasp_points = np.array([[x, y, z, z2] for x in x_bounds for y in y_bounds for z in z_bounds_grasp for z2 in z2_bounds_grasp])\n",
    "\n",
    "# Compute the convex hull\n",
    "placement_hull = ConvexHull(placement_points)\n",
    "grasp_hull = ConvexHull(grasp_points)\n",
    "\n",
    "# Convert ConvexHull to HPolyhedron\n",
    "def convex_hull_to_hpolyhedron(hull):\n",
    "    A = hull.equations[:, :-1]\n",
    "    b = -hull.equations[:, -1]\n",
    "    return HPolyhedron(A, b)\n",
    "\n",
    "placement_polytope = convex_hull_to_hpolyhedron(placement_hull)\n",
    "grasp_polytope = convex_hull_to_hpolyhedron(grasp_hull)"
   ]
  },
  {
   "cell_type": "markdown",
   "metadata": {},
   "source": [
    "# 2. Manipulation Planner Class"
   ]
  },
  {
   "cell_type": "code",
   "execution_count": 5,
   "metadata": {},
   "outputs": [],
   "source": [
    "class ManipulationPlanner():\n",
    "\n",
    "    def __init__(self, \n",
    "            visualizer: CIrisPlantVisualizer,\n",
    "            CP: HPolyhedron,\n",
    "            CG: HPolyhedron,\n",
    "            max_grasps: int = 20,\n",
    "        ):\n",
    "        self.builder = visualizer.builder\n",
    "        self.plant = visualizer.plant\n",
    "        self.plant_context = visualizer.plant_context\n",
    "        self.scene_graph = visualizer.scene_graph\n",
    "        self.q_star = visualizer.q_star\n",
    "        self.rat_fk = visualizer.rat_forward_kin\n",
    "        self.inspector = visualizer.model_inspector\n",
    "        self.diagram = visualizer.task_space_diagram\n",
    "        self.diagram_context = visualizer.task_space_diagram_context\n",
    "        self.lower_joint_limits = visualizer.q_lower_limits\n",
    "        self.upper_joint_limits = visualizer.q_upper_limits\n",
    "        self.visualize_cspace = visualizer.visualize_collision_constraint\n",
    "        self.cspace_free_polytope = visualizer.cspace_free_polytope\n",
    "        \n",
    "        self.CP = CP\n",
    "        self.CG = CG\n",
    "        self.max_grasps = max_grasps\n",
    "        \n",
    "        self.q_dim = self.plant.num_positions()\n",
    "        \n",
    "        self.cs_free = self._generate_cfree()\n",
    "        \n",
    "    def set_max_grasps(self, max_grasps: int):\n",
    "        self.max_grasps = max_grasps\n",
    "    \n",
    "    \n",
    "    def compute_trajectory(self, x_init, x_goal, display=False):\n",
    "        print(\"Finding path for minimum grasps\")\n",
    "        path = self._find_minimum_grasp_path(\n",
    "                x_init = x_init,\n",
    "                x_goal = x_goal,\n",
    "                P = self.CP,\n",
    "                G = self.CG,\n",
    "                lower_joint_limits = self.lower_joint_limits,\n",
    "                upper_joint_limits = self.upper_joint_limits,\n",
    "                c_free_polytopes = self.cs_free\n",
    "            )\n",
    "        \n",
    "        print(\"Path found. Generating trajectory\")\n",
    "        traj = self._generate_trajectory(path)\n",
    "        \n",
    "        print(\"Trajectory generated. Starting display\")\n",
    "        if display:\n",
    "            self.display_trajectory(traj)\n",
    "            \n",
    "        return path, traj\n",
    "        \n",
    "    def display_trajectory(self, traj, meshcat=True, plotly=False):\n",
    "        if meshcat:\n",
    "            num_points = int((traj.end_time() - traj.start_time()) * 4000)\n",
    "            for t in np.linspace(traj.start_time(), traj.end_time(), num_points):\n",
    "                q = traj.value(t)\n",
    "                self.plant.GetJointByName(\"left_finger_sliding_joint\", gripper).set_translation(self.plant_context, q[2])\n",
    "                \n",
    "                self.plant.GetJointByName(\"right_finger_sliding_joint\", gripper).set_translation(self.plant_context, q[3])\n",
    "                \n",
    "                self.plant.GetJointByName(\"base_revolute_joint\", gripper).set_angle(self.plant_context, q[1])\n",
    "                self.plant.GetJointByName(\"cap_to_base\", cap).set_angle(self.plant_context, -q[0])\n",
    "                self.diagram.ForcedPublish(self.diagram_context)\n",
    "                time.sleep(0.01)\n",
    "        path = [traj.value(t) for t in np.linspace(traj.start_time(), traj.end_time(), 100)]\n",
    "        path_q = [q.ravel() for q in path] # Convert to list of numpy arrays\n",
    "        if plotly:\n",
    "            self.visualize_cspace(factor=1, num_points=30, paths=[path_q], filled_polytopes=self.cs_free)\n",
    "        return path_q\n",
    "    \n",
    "    def _generate_trajectory(self, path):\n",
    "        trajs = []\n",
    "        print(\"Generating trajectory from:\")\n",
    "        for q0, q1 in zip(path[:-1], path[1:]):\n",
    "            # print(\"From\\t[{:.2f}, {:.2f}, {:.2f}]\\tto\\t[{:.2f}, {:.2f}, {:.2f}]\".format(q0[0], q0[1], q0[2], q1[0], q1[1], q1[2]))\n",
    "            print(\"From\\t{}\\tto\\t{}\".format(q0, q1))\n",
    "            traj, result = self._generate_edge_trajectory(q0, q1)\n",
    "            if not result.is_success():\n",
    "                print(\"failed to generate edge trajectory from {} to {}\".format(q0, q1))\n",
    "                return None\n",
    "            trajs.append(traj)\n",
    "        return CompositeTrajectory.AlignAndConcatenate(trajs)\n",
    "        \n",
    "        \n",
    "    def _generate_edge_trajectory(self, x_init, x_goal):\n",
    "        trajopt = GcsTrajectoryOptimization(self.plant.num_positions())\n",
    "        gcs_regions = trajopt.AddRegions(self.cs_free, order=1, h_min=0.01)\n",
    "        source = trajopt.AddRegions([Point(x_init)], order=0)\n",
    "        target = trajopt.AddRegions([Point(x_goal)], order=0)\n",
    "        trajopt.AddEdges(source, gcs_regions)\n",
    "        trajopt.AddEdges(gcs_regions, target)\n",
    "        trajopt.AddPathLengthCost()\n",
    "        options = GraphOfConvexSetsOptions()\n",
    "        [traj, result] = trajopt.SolvePath(source, target, options)\n",
    "        print(f\"result.is_success() = {result.is_success()}\")\n",
    "        return traj, result        \n",
    "        \n",
    "    \n",
    "    def _find_minimum_grasp_path(\n",
    "            self,\n",
    "            x_init: np.ndarray,\n",
    "            x_goal: np.ndarray,\n",
    "            P: HPolyhedron,\n",
    "            G: HPolyhedron,\n",
    "            lower_joint_limits: np.ndarray, \n",
    "            upper_joint_limits: np.ndarray,\n",
    "            c_free_polytopes: list[HPolyhedron]\n",
    "            ) -> np.ndarray:\n",
    "            \n",
    "        for i in range(self.max_grasps):\n",
    "            if i % 10 == 0 and i > 0:\n",
    "                print(f\"Trying with {i} grasps\")\n",
    "            \n",
    "            path = self._solve_for_n_grasps_CC(\n",
    "                i,\n",
    "                x_init,\n",
    "                x_goal,\n",
    "                P,\n",
    "                G,\n",
    "                lower_joint_limits,\n",
    "                upper_joint_limits,\n",
    "                c_free_polytopes\n",
    "            )\n",
    "            \n",
    "            if path is not None:\n",
    "                print(f\"Found a solution with {i} grasps\")\n",
    "                return path  \n",
    "        print(f\"No solution found for less than {self.max_grasps} grasps\")\n",
    "    \n",
    "    \n",
    "    def _solve_for_n_grasps_CC(\n",
    "            self,\n",
    "            n_grasps: int, \n",
    "            x_init: np.ndarray,\n",
    "            x_goal: np.ndarray,\n",
    "            P: HPolyhedron,\n",
    "            G: HPolyhedron,\n",
    "            lower_joint_limits: np.ndarray, \n",
    "            upper_joint_limits: np.ndarray,\n",
    "            c_free_polytopes: list[HPolyhedron]\n",
    "            ) -> np.ndarray:\n",
    "        # Initialize the program\n",
    "        prog = MathematicalProgram()\n",
    "        n_points = 2 * n_grasps + 2\n",
    "        n_vars = self.q_dim * n_points\n",
    "        \n",
    "        # Create decision variables\n",
    "        x = prog.NewContinuousVariables(n_vars, \"x\")\n",
    "        \n",
    "        # 1. Cost function: Minimize sum of squared distances between consecutive points\n",
    "        \n",
    "        c = np.zeros((n_vars - self.q_dim, 1))\n",
    "        C = np.zeros((n_vars - self.q_dim, n_vars))\n",
    "        C[:, self.q_dim:] = np.eye(n_vars - self.q_dim)\n",
    "        C[:, :-self.q_dim] -= np.eye(n_vars - self.q_dim)\n",
    "        \n",
    "        Q, b = self._to_quadratic_form(C, c)\n",
    "        Q += np.eye(Q.shape[1]) * 1e-6  # Add a small value to the diagonal to make Q positive definite\n",
    "        \n",
    "        prog.AddQuadraticCost(Q=Q, b=b, vars=x)\n",
    "        \n",
    "        # 2. Initial and goal constraints\n",
    "        prog.AddLinearEqualityConstraint(np.eye(self.q_dim), x_init.flatten(), x[:self.q_dim])\n",
    "        prog.AddLinearEqualityConstraint(np.eye(self.q_dim), x_goal.flatten(), x[-self.q_dim:])\n",
    "        \n",
    "        \n",
    "        ###### Placement and Grasping Constraints should be adapted task specific #####\n",
    "        \n",
    "        # 3. Placement constraints (equality) -> Cap remains constant in transit paths\n",
    "        for i in range(n_grasps + 1):\n",
    "            idx1 = 2*self.q_dim*i\n",
    "            idx2 = 2*self.q_dim*i + self.q_dim\n",
    "            prog.AddLinearEqualityConstraint(x[idx1] - x[idx2] == 0)\n",
    "        \n",
    "        # 4. Grasp constraints (equality between gripper orientations)\n",
    "        for i in range(n_grasps):\n",
    "            idx = 2*self.q_dim*(i+1) - 1\n",
    "            prog.AddLinearEqualityConstraint(x[idx-self.q_dim+1] - x[idx-self.q_dim+2] - x[idx+1] + x[idx+2] == 0)\n",
    "        \n",
    "        ###### end of manual constraints\n",
    "        \n",
    "        \n",
    "        # 5. Inequality Constraints (Placement hull)\n",
    "        for i in range(n_points):\n",
    "            prog.AddLinearConstraint(\n",
    "                P.A(),  # Coefficient matrix\n",
    "                -np.inf * np.ones_like(P.b()),  # Lower bound\n",
    "                P.b(),  # Upper bound\n",
    "                x[self.q_dim*i:self.q_dim*(i+1)]\n",
    "            )\n",
    "        # 6. Inequality Constraints (Grasp hull) \n",
    "        # for i in range(n_points - 2):\n",
    "        #     prog.AddLinearConstraint(\n",
    "        #         G.A(),\n",
    "        #         -np.inf * np.ones_like(G.b()),\n",
    "        #         G.b(),\n",
    "        #         x[self.q_dim*(i+1):self.q_dim*(i+2)]\n",
    "        #     )\n",
    "        \n",
    "        # 7. Joint limits (inequality)\n",
    "        prog.AddBoundingBoxConstraint(\n",
    "            np.tile(lower_joint_limits, n_points),\n",
    "            np.tile(upper_joint_limits, n_points),\n",
    "            x\n",
    "        )\n",
    "        \n",
    "        # 7. Collision-free polytope constraints (MIP)\n",
    "        # Ensure all points are contained in at least one polytope\n",
    "        \n",
    "        M = 1e6  # Big-M constant (adjust based on problem scale)\n",
    "        for i in range(n_points):\n",
    "            x_i = x[self.q_dim*i:self.q_dim*(i+1)]\n",
    "            \n",
    "            # Creates one bineary 0-1 variable for each polytope\n",
    "            z_i = prog.NewBinaryVariables(len(c_free_polytopes), name=f\"z_{i}\")\n",
    "            \n",
    "            # Each point x_i must be contained in at least one polytope\n",
    "            prog.AddLinearConstraint(sum(z_i) >= 1)\n",
    "            \n",
    "            for j, poly in enumerate(c_free_polytopes):\n",
    "                A_j = poly.A()\n",
    "                b_j = poly.b()\n",
    "                z_j = z_i[j]\n",
    "                \n",
    "                # Add constraints for each row of the polytope\n",
    "                for k in range(A_j.shape[0]):\n",
    "                    # Construct coefficient matrix [A_j_row | M]\n",
    "                    coeffs = np.hstack([A_j[k], M])\n",
    "                    # Combine x_i and z_j into variable vector\n",
    "                    vars = np.hstack([x_i, [z_j]])\n",
    "                    # A_j @ x_i + M * z[j] <= b_j + M\n",
    "                    prog.AddLinearConstraint(\n",
    "                        coeffs,\n",
    "                        -np.inf,\n",
    "                        b_j[k] + M,\n",
    "                        vars\n",
    "                    )\n",
    "                \n",
    "        # 8. Connected components constraints\n",
    "        connected_components = self._compute_connected_components(P, G, c_free_polytopes)\n",
    "        K = len(connected_components)\n",
    "        \n",
    "        # create binary variables for component membership (excluding init ang goal)\n",
    "        z = {}\n",
    "        for i in range (1, n_points-1): # exclude init and goal\n",
    "            z[i] = prog.NewBinaryVariables(K, f\"z_{i}\")   \n",
    "            # Each point must belong to exactly one component\n",
    "            prog.AddLinearConstraint(sum(z[i]) == 1)\n",
    "        \n",
    "        # Consecutive points must belong to the same component, ignoring init and goal\n",
    "        for i in range(1, n_points-2, 2):\n",
    "            for k in range(K):\n",
    "                prog.AddLinearConstraint(z[i][k] == z[i+1][k])\n",
    "        \n",
    "        # Enforce that each component contains at least one point\n",
    "        for i in range(1, n_points-1):\n",
    "            x_i = x[self.q_dim*i:self.q_dim*(i+1)]\n",
    "            z_i = z[i]\n",
    "            \n",
    "            for k, comp in enumerate(connected_components):\n",
    "                A_k = comp.A()\n",
    "                b_k = comp.b()\n",
    "                z_k = z_i[k]\n",
    "                \n",
    "                for j in range(A_k.shape[0]):\n",
    "                    coeffs = np.hstack([A_k[j], M])\n",
    "                    vars = np.hstack([x_i, [z_k]])\n",
    "                    prog.AddLinearConstraint(coeffs, -np.inf, b_k[j] + M, vars)\n",
    "        \n",
    "        # Solve the problem\n",
    "        solver = MosekSolver()\n",
    "        result = solver.Solve(prog)\n",
    "        \n",
    "        if not result.is_success():\n",
    "            return None\n",
    "        \n",
    "        return result.GetSolution(x).reshape(-1, self.q_dim)\n",
    "    \n",
    "    @staticmethod\n",
    "    def _to_quadratic_form(C, c):\n",
    "        return np.dot(C.T, C), -np.dot(C.T, c).flatten()\n",
    "    \n",
    "    def _compute_connected_components(\n",
    "        self,\n",
    "        placement: HPolyhedron,\n",
    "        grasp: HPolyhedron,\n",
    "        c_free: list[HPolyhedron]\n",
    "    ) -> list[HPolyhedron]:\n",
    "        \"\"\"\n",
    "        Computes convex connected components as:\n",
    "        {placement ∩ grasp ∩ (union of c_free)}.\n",
    "        Returns convex hulls of connected regions.\n",
    "        \"\"\"\n",
    "        components = []\n",
    "        \n",
    "        # Compute intersections with each c_free polytope\n",
    "        for poly in c_free:\n",
    "            intersection = placement.Intersection(grasp).Intersection(poly)\n",
    "            if not intersection.IsEmpty():\n",
    "                components.append(intersection)\n",
    "        \n",
    "        # Merge overlapping components\n",
    "        merged = []\n",
    "        for comp in components:\n",
    "            add_to_merged = False\n",
    "            for m in merged:\n",
    "                if comp.Intersection(m).IsEmpty():\n",
    "                    continue\n",
    "                # Merge overlapping components\n",
    "                vertices_comp = visualizer.get_polytope_vertices(comp)\n",
    "                vertices_m = visualizer.get_polytope_vertices(m)\n",
    "                vertices = np.vstack([vertices_comp, vertices_m])\n",
    "                merged_hull = ConvexHull(vertices)\n",
    "                merged_poly = convex_hull_to_hpolyhedron(merged_hull)\n",
    "                merged.remove(m)\n",
    "                merged.append(merged_poly)\n",
    "                add_to_merged = True\n",
    "                break\n",
    "            if not add_to_merged:\n",
    "                merged.append(comp)\n",
    "        \n",
    "        return merged\n",
    "    \n",
    "    \n",
    "    def _generate_cfree(self):\n",
    "        generator = RandomGenerator(1234)\n",
    "        checker = SceneGraphCollisionChecker(\n",
    "            model=self.diagram,\n",
    "            robot_model_instances=[self.plant.GetModelInstanceByName(\"robot\")],\n",
    "            edge_step_size=0.01,\n",
    "        )\n",
    "        options = IrisFromCliqueCoverOptions()\n",
    "        options.num_points_per_visibility_round = 200\n",
    "        options.coverage_termination_threshold = 0.99\n",
    "        options.iris_options.configuration_space_margin = 0.00001\n",
    "        # See https://github.com/RobotLocomotion/drake/issues/21343 -> If getting this issue reduce c-space margin above\n",
    "        regions = IrisInConfigurationSpaceFromCliqueCover(checker, options, generator, [])\n",
    "        return regions\n",
    "    \n",
    "    "
   ]
  },
  {
   "cell_type": "markdown",
   "metadata": {},
   "source": [
    "# 3. Example Usage"
   ]
  },
  {
   "cell_type": "code",
   "execution_count": 6,
   "metadata": {},
   "outputs": [
    {
     "name": "stderr",
     "output_type": "stream",
     "text": [
      "INFO:drake:Allocating contexts to support implicit context parallelism 12\n",
      "INFO:drake:Using default max clique solver MaxCliqueSolverViaGreedy.\n",
      "INFO:drake:Current Fraction of Domain Covered = 0\n",
      "INFO:drake:IrisFromCliqueCover Iteration 1/100\n",
      "INFO:drake:Clique added to queue. There are 83/200 points left to cover.\n",
      "INFO:drake:Clique added to queue. There are 62/200 points left to cover.\n",
      "INFO:drake:Clique added to queue. There are 50/200 points left to cover.\n",
      "INFO:drake:Clique added to queue. There are 30/200 points left to cover.\n",
      "INFO:drake:Finished adding cliques. Total of 4 clique added. Number of cliques left to process = 0\n",
      "INFO:drake:IrisInConfigurationSpace iteration 0\n",
      "INFO:drake:IrisInConfigurationSpace iteration 0\n",
      "INFO:drake:IrisInConfigurationSpace iteration 0\n",
      "INFO:drake:IrisInConfigurationSpace iteration 0\n",
      "INFO:drake:IrisInConfigurationSpace: Terminating because the iteration limit 1 has been reached.\n",
      "INFO:drake:IrisInConfigurationSpace: Terminating because the iteration limit 1 has been reached.\n",
      "INFO:drake:IrisInConfigurationSpace: Terminating because the iteration limit 1 has been reached.\n",
      "INFO:drake:IrisInConfigurationSpace: Terminating because the iteration limit 1 has been reached.\n",
      "INFO:drake:4 new sets added in IrisFromCliqueCover at iteration 0. Total sets = 4\n",
      "INFO:drake:Current Fraction of Domain Covered = 0.776\n",
      "INFO:drake:IrisFromCliqueCover Iteration 2/100\n",
      "INFO:drake:Clique added to queue. There are 47/200 points left to cover.\n",
      "INFO:drake:Finished adding cliques. Total of 1 clique added. Number of cliques left to process = 0\n",
      "INFO:drake:IrisInConfigurationSpace iteration 0\n",
      "INFO:drake:IrisInConfigurationSpace: Terminating because the iteration limit 1 has been reached.\n",
      "INFO:drake:1 new sets added in IrisFromCliqueCover at iteration 1. Total sets = 5\n",
      "INFO:drake:Current Fraction of Domain Covered = 0.956\n",
      "INFO:drake:IrisFromCliqueCover Iteration 3/100\n",
      "INFO:drake:Clique added to queue. There are 121/200 points left to cover.\n",
      "INFO:drake:Clique added to queue. There are 62/200 points left to cover.\n",
      "INFO:drake:Clique added to queue. There are 43/200 points left to cover.\n",
      "INFO:drake:Clique added to queue. There are 37/200 points left to cover.\n",
      "INFO:drake:Clique added to queue. There are 27/200 points left to cover.\n",
      "INFO:drake:Finished adding cliques. Total of 5 clique added. Number of cliques left to process = 0\n",
      "INFO:drake:IrisInConfigurationSpace iteration 0\n",
      "INFO:drake:IrisInConfigurationSpace iteration 0\n",
      "INFO:drake:IrisInConfigurationSpace iteration 0\n",
      "INFO:drake:IrisInConfigurationSpace iteration 0\n",
      "INFO:drake:IrisInConfigurationSpace iteration 0\n",
      "INFO:drake:IrisInConfigurationSpace: Terminating because the iteration limit 1 has been reached.\n",
      "INFO:drake:IrisInConfigurationSpace: Terminating because the iteration limit 1 has been reached.\n",
      "INFO:drake:IrisInConfigurationSpace: Terminating because the iteration limit 1 has been reached.\n",
      "INFO:drake:IrisInConfigurationSpace: Terminating because the iteration limit 1 has been reached.\n",
      "INFO:drake: Checking robot::collision against obstacle_1::collision_obs has already required 50 counter-example searches; still searching...\n",
      "INFO:drake: Finished checking robot::collision against obstacle_1::collision_obs after 150 counter-example searches.\n",
      "INFO:drake: Checking robot::collision against obstacle::collision_obs has already required 50 counter-example searches; still searching...\n",
      "INFO:drake: Finished checking robot::collision against obstacle::collision_obs after 60 counter-example searches.\n",
      "INFO:drake:IrisInConfigurationSpace: Terminating because the iteration limit 1 has been reached.\n",
      "INFO:drake:5 new sets added in IrisFromCliqueCover at iteration 2. Total sets = 10\n",
      "INFO:drake:Current Fraction of Domain Covered = 0.985\n",
      "INFO:drake:IrisFromCliqueCover Iteration 4/100\n",
      "INFO:drake:Clique added to queue. There are 121/200 points left to cover.\n",
      "INFO:drake:Clique added to queue. There are 113/200 points left to cover.\n",
      "INFO:drake:Clique added to queue. There are 105/200 points left to cover.\n",
      "INFO:drake:Finished adding cliques. Total of 3 clique added. Number of cliques left to process = 0\n",
      "INFO:drake:IrisInConfigurationSpace iteration 0\n",
      "INFO:drake:IrisInConfigurationSpace iteration 0\n",
      "INFO:drake:IrisInConfigurationSpace iteration 0\n",
      "INFO:drake:IrisInConfigurationSpace: Terminating because the iteration limit 1 has been reached.\n",
      "INFO:drake:IrisInConfigurationSpace: Terminating because the iteration limit 1 has been reached.\n",
      "INFO:drake:IrisInConfigurationSpace: Terminating because the iteration limit 1 has been reached.\n",
      "INFO:drake:3 new sets added in IrisFromCliqueCover at iteration 3. Total sets = 13\n",
      "INFO:drake:Current Fraction of Domain Covered = 0.988\n",
      "INFO:drake:IrisFromCliqueCover Iteration 5/100\n",
      "INFO:drake:Clique added to queue. There are 158/200 points left to cover.\n",
      "INFO:drake:Finished adding cliques. Total of 1 clique added. Number of cliques left to process = 0\n",
      "INFO:drake:IrisInConfigurationSpace iteration 0\n",
      "INFO:drake:IrisInConfigurationSpace: Terminating because the iteration limit 1 has been reached.\n",
      "INFO:drake:1 new sets added in IrisFromCliqueCover at iteration 4. Total sets = 14\n",
      "INFO:drake:Current Fraction of Domain Covered = 0.996\n"
     ]
    }
   ],
   "source": [
    "planner = ManipulationPlanner(visualizer, placement_polytope, grasp_polytope, 50)"
   ]
  },
  {
   "cell_type": "code",
   "execution_count": 7,
   "metadata": {},
   "outputs": [
    {
     "name": "stdout",
     "output_type": "stream",
     "text": [
      "Finding path for minimum grasps\n",
      "1.5722951889038086 time for 0 grasps\n",
      "1.6300725936889648 time for 1 grasps\n",
      "1.7874112129211426 time for 2 grasps\n",
      "1.548675775527954 time for 3 grasps\n",
      "1.7121033668518066 time for 4 grasps\n",
      "1.7071611881256104 time for 5 grasps\n",
      "2.158466100692749 time for 6 grasps\n",
      "1.8633251190185547 time for 7 grasps\n",
      "1.6922965049743652 time for 8 grasps\n",
      "1.8325588703155518 time for 9 grasps\n",
      "Trying with 10 grasps\n",
      "1.8193767070770264 time for 10 grasps\n",
      "1.9477794170379639 time for 11 grasps\n",
      "Found a solution with 11 grasps\n",
      "Time taken for grasps: [1.5722951889038086, 1.6300725936889648, 1.7874112129211426, 1.548675775527954, 1.7121033668518066, 1.7071611881256104, 2.158466100692749, 1.8633251190185547, 1.6922965049743652, 1.8325588703155518, 1.8193767070770264, 1.9477794170379639] seconds\n",
      "Path found. Generating trajectory\n",
      "Generating trajectory from:\n",
      "From\t[-3.14  -0.78  -0.025  0.055]\tto\t[-3.14        0.38912424 -0.02500001  0.02499992]\n"
     ]
    },
    {
     "name": "stderr",
     "output_type": "stream",
     "text": [
      "INFO:drake:Solved GCS shortest path using Mosek with convex_relaxation=true and preprocessing=true and rounding.\n",
      "INFO:drake:Found 5 unique paths, discarded 0 duplicate paths.\n",
      "INFO:drake:Finished 5 rounding solutions with Mosek.\n"
     ]
    },
    {
     "name": "stdout",
     "output_type": "stream",
     "text": [
      "result.is_success() = True\n",
      "From\t[-3.14        0.38912424 -0.02500001  0.02499992]\tto\t[-2.53357696  0.99554726 -0.02495472  0.02491546]\n"
     ]
    },
    {
     "name": "stderr",
     "output_type": "stream",
     "text": [
      "INFO:drake:Solved GCS shortest path using Mosek with convex_relaxation=true and preprocessing=true and rounding.\n",
      "INFO:drake:Found 5 unique paths, discarded 3 duplicate paths.\n",
      "INFO:drake:Finished 5 rounding solutions with Mosek.\n"
     ]
    },
    {
     "name": "stdout",
     "output_type": "stream",
     "text": [
      "result.is_success() = True\n",
      "From\t[-2.53357696  0.99554726 -0.02495472  0.02491546]\tto\t[-2.53357696  0.38937631 -0.02497541  0.02486332]\n"
     ]
    },
    {
     "name": "stderr",
     "output_type": "stream",
     "text": [
      "INFO:drake:Solved GCS shortest path using Mosek with convex_relaxation=true and preprocessing=true and rounding.\n",
      "INFO:drake:Found 5 unique paths, discarded 1 duplicate paths.\n",
      "INFO:drake:Finished 5 rounding solutions with Mosek.\n"
     ]
    },
    {
     "name": "stdout",
     "output_type": "stream",
     "text": [
      "result.is_success() = True\n",
      "From\t[-2.53357696  0.38937631 -0.02497541  0.02486332]\tto\t[-1.92718658  0.99576668 -0.02494045  0.02482831]\n"
     ]
    },
    {
     "name": "stderr",
     "output_type": "stream",
     "text": [
      "INFO:drake:Solved GCS shortest path using Mosek with convex_relaxation=true and preprocessing=true and rounding.\n",
      "INFO:drake:Found 5 unique paths, discarded 4 duplicate paths.\n",
      "INFO:drake:Finished 5 rounding solutions with Mosek.\n"
     ]
    },
    {
     "name": "stdout",
     "output_type": "stream",
     "text": [
      "result.is_success() = True\n",
      "From\t[-1.92718658  0.99576668 -0.02494045  0.02482831]\tto\t[-1.92718658  0.38953455 -0.02495611  0.02480586]\n"
     ]
    },
    {
     "name": "stderr",
     "output_type": "stream",
     "text": [
      "INFO:drake:Solved GCS shortest path using Mosek with convex_relaxation=true and preprocessing=true and rounding.\n",
      "INFO:drake:Found 5 unique paths, discarded 1 duplicate paths.\n",
      "INFO:drake:Finished 5 rounding solutions with Mosek.\n"
     ]
    },
    {
     "name": "stdout",
     "output_type": "stream",
     "text": [
      "result.is_success() = True\n",
      "From\t[-1.92718658  0.38953455 -0.02495611  0.02480586]\tto\t[-1.32081606  0.99590507 -0.02492847  0.02478798]\n"
     ]
    },
    {
     "name": "stderr",
     "output_type": "stream",
     "text": [
      "INFO:drake:Solved GCS shortest path using Mosek with convex_relaxation=true and preprocessing=true and rounding.\n",
      "INFO:drake:Found 5 unique paths, discarded 4 duplicate paths.\n",
      "INFO:drake:Finished 5 rounding solutions with Mosek.\n"
     ]
    },
    {
     "name": "stdout",
     "output_type": "stream",
     "text": [
      "result.is_success() = True\n",
      "From\t[-1.32081606  0.99590507 -0.02492847  0.02478798]\tto\t[-1.32081606  0.38963699 -0.02494345  0.02477805]\n"
     ]
    },
    {
     "name": "stderr",
     "output_type": "stream",
     "text": [
      "INFO:drake:Solved GCS shortest path using Mosek with convex_relaxation=true and preprocessing=true and rounding.\n",
      "INFO:drake:Found 5 unique paths, discarded 1 duplicate paths.\n",
      "INFO:drake:Finished 5 rounding solutions with Mosek.\n"
     ]
    },
    {
     "name": "stdout",
     "output_type": "stream",
     "text": [
      "result.is_success() = True\n",
      "From\t[-1.32081606  0.38963699 -0.02494345  0.02477805]\tto\t[-0.71446131  0.99599174 -0.02492085  0.02476921]\n"
     ]
    },
    {
     "name": "stderr",
     "output_type": "stream",
     "text": [
      "INFO:drake:Solved GCS shortest path using Mosek with convex_relaxation=true and preprocessing=true and rounding.\n",
      "INFO:drake:Found 5 unique paths, discarded 4 duplicate paths.\n",
      "INFO:drake:Finished 5 rounding solutions with Mosek.\n"
     ]
    },
    {
     "name": "stdout",
     "output_type": "stream",
     "text": [
      "result.is_success() = True\n",
      "From\t[-0.71446131  0.99599174 -0.02492085  0.02476921]\tto\t[-0.71446131  0.38969464 -0.02493691  0.02476694]\n"
     ]
    },
    {
     "name": "stderr",
     "output_type": "stream",
     "text": [
      "INFO:drake:Solved GCS shortest path using Mosek with convex_relaxation=true and preprocessing=true and rounding.\n",
      "INFO:drake:Found 5 unique paths, discarded 1 duplicate paths.\n",
      "INFO:drake:Finished 5 rounding solutions with Mosek.\n"
     ]
    },
    {
     "name": "stdout",
     "output_type": "stream",
     "text": [
      "result.is_success() = True\n",
      "From\t[-0.71446131  0.38969464 -0.02493691  0.02476694]\tto\t[-0.10812054  0.9960354  -0.02491747  0.02476458]\n"
     ]
    },
    {
     "name": "stderr",
     "output_type": "stream",
     "text": [
      "INFO:drake:Solved GCS shortest path using Mosek with convex_relaxation=true and preprocessing=true and rounding.\n",
      "INFO:drake:Found 5 unique paths, discarded 3 duplicate paths.\n",
      "INFO:drake:Finished 5 rounding solutions with Mosek.\n"
     ]
    },
    {
     "name": "stdout",
     "output_type": "stream",
     "text": [
      "result.is_success() = True\n",
      "From\t[-0.10812054  0.9960354  -0.02491747  0.02476458]\tto\t[-0.10812054  0.38971165 -0.02493508  0.02476834]\n"
     ]
    },
    {
     "name": "stderr",
     "output_type": "stream",
     "text": [
      "INFO:drake:Solved GCS shortest path using Mosek with convex_relaxation=true and preprocessing=true and rounding.\n",
      "INFO:drake:Found 5 unique paths, discarded 1 duplicate paths.\n",
      "INFO:drake:Finished 5 rounding solutions with Mosek.\n"
     ]
    },
    {
     "name": "stdout",
     "output_type": "stream",
     "text": [
      "result.is_success() = True\n",
      "From\t[-0.10812054  0.38971165 -0.02493508  0.02476834]\tto\t[ 0.49820715  0.99603934 -0.02491762  0.0247696 ]\n"
     ]
    },
    {
     "name": "stderr",
     "output_type": "stream",
     "text": [
      "INFO:drake:Solved GCS shortest path using Mosek with convex_relaxation=true and preprocessing=true and rounding.\n",
      "INFO:drake:Found 5 unique paths, discarded 3 duplicate paths.\n",
      "INFO:drake:Finished 5 rounding solutions with Mosek.\n"
     ]
    },
    {
     "name": "stdout",
     "output_type": "stream",
     "text": [
      "result.is_success() = True\n",
      "From\t[ 0.49820715  0.99603934 -0.02491762  0.0247696 ]\tto\t[ 0.49820715  0.38968956 -0.02493728  0.02477716]\n"
     ]
    },
    {
     "name": "stderr",
     "output_type": "stream",
     "text": [
      "INFO:drake:Solved GCS shortest path using Mosek with convex_relaxation=true and preprocessing=true and rounding.\n",
      "INFO:drake:Found 5 unique paths, discarded 1 duplicate paths.\n",
      "INFO:drake:Finished 5 rounding solutions with Mosek.\n"
     ]
    },
    {
     "name": "stdout",
     "output_type": "stream",
     "text": [
      "result.is_success() = True\n",
      "From\t[ 0.49820715  0.38968956 -0.02493728  0.02477716]\tto\t[ 1.10452208  0.99600449 -0.02492122  0.02478078]\n"
     ]
    },
    {
     "name": "stderr",
     "output_type": "stream",
     "text": [
      "INFO:drake:Solved GCS shortest path using Mosek with convex_relaxation=true and preprocessing=true and rounding.\n",
      "INFO:drake:Found 5 unique paths, discarded 4 duplicate paths.\n",
      "INFO:drake:Finished 5 rounding solutions with Mosek.\n"
     ]
    },
    {
     "name": "stdout",
     "output_type": "stream",
     "text": [
      "result.is_success() = True\n",
      "From\t[ 1.10452208  0.99600449 -0.02492122  0.02478078]\tto\t[ 1.10452208  0.38962811 -0.02494399  0.02479148]\n"
     ]
    },
    {
     "name": "stderr",
     "output_type": "stream",
     "text": [
      "INFO:drake:Solved GCS shortest path using Mosek with convex_relaxation=true and preprocessing=true and rounding.\n",
      "INFO:drake:Found 5 unique paths, discarded 1 duplicate paths.\n",
      "INFO:drake:Finished 5 rounding solutions with Mosek.\n"
     ]
    },
    {
     "name": "stdout",
     "output_type": "stream",
     "text": [
      "result.is_success() = True\n",
      "From\t[ 1.10452208  0.38962811 -0.02494399  0.02479148]\tto\t[ 1.71082374  0.99592976 -0.02492895  0.02479802]\n"
     ]
    },
    {
     "name": "stderr",
     "output_type": "stream",
     "text": [
      "INFO:drake:Solved GCS shortest path using Mosek with convex_relaxation=true and preprocessing=true and rounding.\n",
      "INFO:drake:Found 5 unique paths, discarded 3 duplicate paths.\n",
      "INFO:drake:Finished 5 rounding solutions with Mosek.\n"
     ]
    },
    {
     "name": "stdout",
     "output_type": "stream",
     "text": [
      "result.is_success() = True\n",
      "From\t[ 1.71082374  0.99592976 -0.02492895  0.02479802]\tto\t[ 1.71082374  0.38952453 -0.02495683  0.02481317]\n"
     ]
    },
    {
     "name": "stderr",
     "output_type": "stream",
     "text": [
      "INFO:drake:Solved GCS shortest path using Mosek with convex_relaxation=true and preprocessing=true and rounding.\n",
      "INFO:drake:Found 5 unique paths, discarded 1 duplicate paths.\n",
      "INFO:drake:Finished 5 rounding solutions with Mosek.\n"
     ]
    },
    {
     "name": "stdout",
     "output_type": "stream",
     "text": [
      "result.is_success() = True\n",
      "From\t[ 1.71082374  0.38952453 -0.02495683  0.02481317]\tto\t[ 2.31710938  0.99581017 -0.02494091  0.02482394]\n"
     ]
    },
    {
     "name": "stderr",
     "output_type": "stream",
     "text": [
      "INFO:drake:Solved GCS shortest path using Mosek with convex_relaxation=true and preprocessing=true and rounding.\n",
      "INFO:drake:Found 5 unique paths, discarded 4 duplicate paths.\n",
      "INFO:drake:Finished 5 rounding solutions with Mosek.\n"
     ]
    },
    {
     "name": "stdout",
     "output_type": "stream",
     "text": [
      "result.is_success() = True\n",
      "From\t[ 2.31710938  0.99581017 -0.02494091  0.02482394]\tto\t[ 2.31710938  0.38936925 -0.02497603  0.02484606]\n"
     ]
    },
    {
     "name": "stderr",
     "output_type": "stream",
     "text": [
      "INFO:drake:Solved GCS shortest path using Mosek with convex_relaxation=true and preprocessing=true and rounding.\n",
      "INFO:drake:Found 5 unique paths, discarded 1 duplicate paths.\n",
      "INFO:drake:Finished 5 rounding solutions with Mosek.\n"
     ]
    },
    {
     "name": "stdout",
     "output_type": "stream",
     "text": [
      "result.is_success() = True\n",
      "From\t[ 2.31710938  0.38936925 -0.02497603  0.02484606]\tto\t[ 2.92336789  0.99562777 -0.02495511  0.02487165]\n"
     ]
    },
    {
     "name": "stderr",
     "output_type": "stream",
     "text": [
      "INFO:drake:Solved GCS shortest path using Mosek with convex_relaxation=true and preprocessing=true and rounding.\n",
      "INFO:drake:Found 5 unique paths, discarded 4 duplicate paths.\n",
      "INFO:drake:Finished 5 rounding solutions with Mosek.\n"
     ]
    },
    {
     "name": "stdout",
     "output_type": "stream",
     "text": [
      "result.is_success() = True\n",
      "From\t[ 2.92336789  0.99562777 -0.02495511  0.02487165]\tto\t[ 2.92336789  0.38912804 -0.025       0.0249164 ]\n"
     ]
    },
    {
     "name": "stderr",
     "output_type": "stream",
     "text": [
      "INFO:drake:Solved GCS shortest path using Mosek with convex_relaxation=true and preprocessing=true and rounding.\n",
      "INFO:drake:Found 5 unique paths, discarded 1 duplicate paths.\n",
      "INFO:drake:Finished 5 rounding solutions with Mosek.\n"
     ]
    },
    {
     "name": "stdout",
     "output_type": "stream",
     "text": [
      "result.is_success() = True\n",
      "From\t[ 2.92336789  0.38912804 -0.025       0.0249164 ]\tto\t[ 3.14        0.60576012 -0.02499957  0.02499986]\n"
     ]
    },
    {
     "name": "stderr",
     "output_type": "stream",
     "text": [
      "INFO:drake:Solved GCS shortest path using Mosek with convex_relaxation=true and preprocessing=true and rounding.\n",
      "INFO:drake:Found 5 unique paths, discarded 4 duplicate paths.\n",
      "INFO:drake:Finished 5 rounding solutions with Mosek.\n"
     ]
    },
    {
     "name": "stdout",
     "output_type": "stream",
     "text": [
      "result.is_success() = True\n",
      "From\t[ 3.14        0.60576012 -0.02499957  0.02499986]\tto\t[ 3.14 -0.78 -0.03  0.04]\n"
     ]
    },
    {
     "name": "stderr",
     "output_type": "stream",
     "text": [
      "INFO:drake:Solved GCS shortest path using Mosek with convex_relaxation=true and preprocessing=true and rounding.\n",
      "INFO:drake:Found 5 unique paths, discarded 0 duplicate paths.\n",
      "INFO:drake:Finished 5 rounding solutions with Mosek.\n"
     ]
    },
    {
     "name": "stdout",
     "output_type": "stream",
     "text": [
      "result.is_success() = True\n",
      "Trajectory generated. Starting display\n"
     ]
    }
   ],
   "source": [
    "x_init = np.array([-3.14, -0.78, -0.025, 0.055])\n",
    "x_goal = np.array([3.14, -0.78, -0.03, 0.04])\n",
    "path, traj = planner.compute_trajectory(x_init, x_goal)"
   ]
  },
  {
   "cell_type": "code",
   "execution_count": 8,
   "metadata": {},
   "outputs": [],
   "source": [
    "planner.plant.SetPositions(planner.plant_context, x_init)\n",
    "planner.diagram.ForcedPublish(planner.diagram_context)"
   ]
  },
  {
   "cell_type": "code",
   "execution_count": 9,
   "metadata": {},
   "outputs": [],
   "source": [
    "traj_path = planner.display_trajectory(traj, plotly=False)"
   ]
  },
  {
   "cell_type": "code",
   "execution_count": null,
   "metadata": {},
   "outputs": [],
   "source": []
  }
 ],
 "metadata": {
  "kernelspec": {
   "display_name": "Python 3",
   "language": "python",
   "name": "python3"
  },
  "language_info": {
   "codemirror_mode": {
    "name": "ipython",
    "version": 3
   },
   "file_extension": ".py",
   "mimetype": "text/x-python",
   "name": "python",
   "nbconvert_exporter": "python",
   "pygments_lexer": "ipython3",
   "version": "3.10.12"
  }
 },
 "nbformat": 4,
 "nbformat_minor": 2
}